{
 "cells": [
  {
   "cell_type": "markdown",
   "id": "numeric-california",
   "metadata": {},
   "source": [
    "# <center> Elementy numerycznej algebry liniowej </center>"
   ]
  },
  {
   "cell_type": "markdown",
   "id": "0a563324",
   "metadata": {},
   "source": [
    "residuum: a_x - b powinno być 0"
   ]
  },
  {
   "cell_type": "markdown",
   "id": "4a981f63",
   "metadata": {},
   "source": [
    "Rozwiązywanie układów równań liniowych jest jednym z podstawowych problemów metod numerycznych. Układy równań liniowych występują w wielu dziedzinach nauki i inżynierii. Stosuje się też w uczeniu maszynowym np. podczas regresji z błędem średniokwadratowym. \n",
    "\n",
    "\n",
    "Istnieje kilka metod rozwiązywania układów równań. Na dzisiejszych zajęciach zajmiemy się:\n",
    "* eliminacją Gaussa bez oraz z wyborem elementu głównego,\n",
    "* metodami iteracyjnymi.\n",
    "\n",
    "Problem rozwiązywania układu równań liniowych będzie nam towarzyszły do końca zajęć z tego przedmiotu."
   ]
  },
  {
   "cell_type": "markdown",
   "id": "56182a3b",
   "metadata": {},
   "source": [
    "## Normy i wskaźniki uwarunkowania"
   ]
  },
  {
   "cell_type": "markdown",
   "id": "38078700",
   "metadata": {},
   "source": [
    "Wrażliwość układu (zmiana rozwiązania) na niewielkie zaburzenia wektora `b` zależy od macierzy `A` i ocenia się ja za pomocą tzw. współczynnika lub [wskaźnika uwarunkowania macierzy](https://pl.wikipedia.org/wiki/Wskaźnik_uwarunkowania) (ang. *condition number*). Im wyższa wartość tego wskaźnika. tym macierz jest gorzej uwarunkowana. Wskaźnik uwarunkowania to iloczyn normy macierzy z normą jej odwrotności.\n",
    "\n",
    "$$cond(A)=|A|_{p}\\cdot|A^{-1}|_{p}$$\n",
    "gdzie *p* oznacza jedną z norm macierzy."
   ]
  },
  {
   "cell_type": "code",
   "execution_count": 2,
   "id": "sudden-category",
   "metadata": {},
   "outputs": [],
   "source": [
    "import numpy as np\n",
    "import scipy\n",
    "import matplotlib.pyplot as plt"
   ]
  },
  {
   "cell_type": "markdown",
   "id": "acknowledged-howard",
   "metadata": {},
   "source": [
    "***Zadanie 1.***\n",
    "\n",
    "Porównaj normy 1,2, $\\infty$ następujących macierzy:\n",
    "* [Hilberta](https://pl.wikipedia.org/wiki/Macierz_Hilberta): o wymiarach 5x5 i 15x15\n",
    "* [Vandermonde'a](https://pl.wikipedia.org/wiki/Macierz_Vandermonde’a): o wymiarach 5x5 i 15x15\n",
    "* losowej o wartościach z przedziału [0,1]:  o wymiarach 5x5 i 15x15\n",
    "* $P=\\left[\\begin{array}{cccc}4 & 1 & -1 & 0 \\\\ 1 & 3 & -1 & 0 \\\\ -1 & -1 & 5 & 2 \\\\ 0 & 0 & 2 & 4\\end{array}\\right]$\n",
    "\n",
    "Czy wśród powyższych macierzy jest macierz [diagonalnie dominująca](https://pl.wikipedia.org/wiki/Macierz_przekątniowo_dominująca)?\n"
   ]
  },
  {
   "cell_type": "code",
   "execution_count": 3,
   "id": "d7165eb2",
   "metadata": {
    "scrolled": true
   },
   "outputs": [
    {
     "name": "stdout",
     "output_type": "stream",
     "text": [
      "hilbert_5:\n",
      "norm 1:  2.283333333333333\n",
      "norm 2:  1.567050691098231\n",
      "norm ∞:  2.283333333333333\n",
      "hilbert_15:\n",
      "norm 1:  3.3182289932289937\n",
      "norm 2:  1.8459277461534886\n",
      "norm ∞:  3.3182289932289937\n",
      "vandermonde_5:\n",
      "norm 1:  979.0\n",
      "norm 2:  695.8417585578524\n",
      "norm ∞:  781.0\n",
      "vandermonde_15:\n",
      "norm 1:  4.603401533773348e+16\n",
      "norm 2:  3.1583986904955172e+16\n",
      "norm ∞:  3.127813502720424e+16\n",
      "random_5:\n",
      "norm 1:  3.086273955991346\n",
      "norm 2:  2.5552135102872167\n",
      "norm ∞:  3.354736667487717\n",
      "random_15:\n",
      "norm 1:  9.096035875290205\n",
      "norm 2:  7.38592327132914\n",
      "norm ∞:  8.9572402932092\n",
      "matrix_P:\n",
      "norm 1:  9.0\n",
      "norm 2:  7.086130197651493\n",
      "norm ∞:  9.0\n"
     ]
    }
   ],
   "source": [
    "hilbert_5 = scipy.linalg.hilbert(5)\n",
    "hilbert_15 = scipy.linalg.hilbert(15)\n",
    "vandermonde_5 = np.vander(np.arange(1,6), increasing=True)\n",
    "vandermonde_15 = np.vander(np.arange(1,16), increasing=True)\n",
    "random_5 = np.random.rand(5,5)\n",
    "random_15 = np.random.rand(15,15)\n",
    "matrix_P = np.array([[4,1,-1,0],[1,3,-1,0],[-1,-1,5,2],[0,0,2,4]])\n",
    "\n",
    "print('hilbert_5:')\n",
    "print('norm 1: ',np.linalg.norm(hilbert_5, 1))\n",
    "print('norm 2: ',np.linalg.norm(hilbert_5, 2))\n",
    "print('norm ∞: ',np.linalg.norm(hilbert_5, np.inf))\n",
    "\n",
    "print('hilbert_15:')\n",
    "print('norm 1: ',np.linalg.norm(hilbert_15, 1))\n",
    "print('norm 2: ',np.linalg.norm(hilbert_15, 2))\n",
    "print('norm ∞: ',np.linalg.norm(hilbert_15, np.inf))\n",
    "\n",
    "print('vandermonde_5:')\n",
    "print('norm 1: ',np.linalg.norm(vandermonde_5, 1))\n",
    "print('norm 2: ',np.linalg.norm(vandermonde_5, 2))\n",
    "print('norm ∞: ',np.linalg.norm(vandermonde_5, np.inf))\n",
    "\n",
    "print('vandermonde_15:')\n",
    "print('norm 1: ',np.linalg.norm(vandermonde_15, 1))\n",
    "print('norm 2: ',np.linalg.norm(vandermonde_15, 2))\n",
    "print('norm ∞: ',np.linalg.norm(vandermonde_15, np.inf))\n",
    "\n",
    "print('random_5:')\n",
    "print('norm 1: ',np.linalg.norm(random_5, 1))\n",
    "print('norm 2: ',np.linalg.norm(random_5, 2))\n",
    "print('norm ∞: ',np.linalg.norm(random_5, np.inf))\n",
    "\n",
    "print('random_15:')\n",
    "print('norm 1: ',np.linalg.norm(random_15, 1))\n",
    "print('norm 2: ',np.linalg.norm(random_15, 2))\n",
    "print('norm ∞: ',np.linalg.norm(random_15, np.inf))\n",
    "\n",
    "print('matrix_P:')\n",
    "print('norm 1: ',np.linalg.norm(matrix_P, 1))\n",
    "print('norm 2: ',np.linalg.norm(matrix_P, 2))\n",
    "print('norm ∞: ',np.linalg.norm(matrix_P, np.inf))\n"
   ]
  },
  {
   "cell_type": "markdown",
   "id": "global-trauma",
   "metadata": {},
   "source": [
    "*Wskazówka: Do wyznaczenia norm możesz wykorzystać funkcję `numpy.linalg.norm`*"
   ]
  },
  {
   "cell_type": "markdown",
   "id": "posted-novel",
   "metadata": {},
   "source": [
    "***Zadanie 2.***\n",
    "\n",
    "Oblicz wskaźniki uwarunkowania macierzy z poprzedniego zadania.\n",
    "\n",
    "*Wskazówka: Możesz wykorzystać funkcję `numpy.linalg.cond`.*"
   ]
  },
  {
   "cell_type": "code",
   "execution_count": 4,
   "id": "74bf9063",
   "metadata": {},
   "outputs": [
    {
     "name": "stdout",
     "output_type": "stream",
     "text": [
      "hilbert_5:  476607.2502422687\n",
      "hilbert_15:  3.67568286586649e+17\n",
      "vandermonde_5:  26169.68797063654\n",
      "vandermonde_15:  1.9860029339947945e+20\n",
      "random_5:  59.43203966608729\n",
      "random_15:  246.24568418642573\n",
      "matrix_P:  3.543065098825747\n"
     ]
    }
   ],
   "source": [
    "print('hilbert_5: ', np.linalg.cond(hilbert_5))\n",
    "print('hilbert_15: ', np.linalg.cond(hilbert_15))\n",
    "print('vandermonde_5: ', np.linalg.cond(vandermonde_5))\n",
    "print('vandermonde_15: ', np.linalg.cond(vandermonde_15))\n",
    "print('random_5: ', np.linalg.cond(random_5))\n",
    "print('random_15: ', np.linalg.cond(random_15))\n",
    "print('matrix_P: ', np.linalg.cond(matrix_P))"
   ]
  },
  {
   "cell_type": "markdown",
   "id": "bdc325a4",
   "metadata": {},
   "source": [
    "## Rozwiązywanie układów równań metodą eliminacji Gaussa"
   ]
  },
  {
   "cell_type": "markdown",
   "id": "61c219cd",
   "metadata": {},
   "source": [
    "***Zadanie 3.***\n",
    "\n",
    "Jedną z metod rozwiązywania układów równań liniowych jest metoda eliminacji Gaussa. Metoda ta występuje w kilku odmianach. Poza podstawowym wariantem, możliwe jest zastosowanie metody z wyborem elementu głownego (tzw. *pivoting*). \n",
    "\n",
    "Celem tego zadania jest porównanie błędów rozwiązania otrzymanego z tych dwóch wariantów eliminacji Gaussa. Poniżej znajdują się implementacje obu tych metod. Każda z funkcji przyjmuje macierz `A` oraz wektor prawej strony równania `b`.\n",
    "\n",
    "Samo polecenie znajduje się poniżej."
   ]
  },
  {
   "cell_type": "code",
   "execution_count": 5,
   "id": "13751725",
   "metadata": {},
   "outputs": [],
   "source": [
    "def gauss_pivot(A, b):\n",
    "    A=A.copy()\n",
    "    b=b.copy()\n",
    "    n = len(b)\n",
    "    for k in range(n-1):\n",
    "        ind_max = k\n",
    "        for j in range(k+1, n):\n",
    "            if abs(A[j,k]) > abs(A[ind_max,k]):\n",
    "                ind_max = j\n",
    "        if ind_max > k:\n",
    "            tmp = A[ind_max,k:n].copy()\n",
    "            A[ind_max,k:n] = A[k,k:n]\n",
    "            A[k,k:n] = tmp\n",
    "            tmp = b[ind_max].copy()\n",
    "            b[ind_max] = b[k]\n",
    "            b[k] = tmp\n",
    "        akk = A[k,k]\n",
    "        l = A[k+1:n,k] / akk\n",
    "        for i in range(k+1, n):\n",
    "            A[i,k] = 0\n",
    "            A[i,k+1:n] = A[i,k+1:n] - l[i-k-1] * A[k,k+1:n]\n",
    "            b[i] = b[i] - l[i-k-1] * b[k]\n",
    "    x = np.zeros(n)\n",
    "    x[n-1] = b[n-1]/A[n-1,n-1]\n",
    "    for k in range(n-2, -1, -1):\n",
    "        x[k] = (b[k] - np.dot(A[k,k+1:n], x[k+1:n])) / A[k,k]\n",
    "    return x"
   ]
  },
  {
   "cell_type": "code",
   "execution_count": 6,
   "id": "24ea0c35",
   "metadata": {},
   "outputs": [],
   "source": [
    "def gauss(A, b):\n",
    "    A=A.copy()\n",
    "    b=b.copy()\n",
    "    n = len(b)\n",
    "    for k in range(n-1):\n",
    "        akk = A[k,k]\n",
    "        l = A[k+1:n,k] / akk\n",
    "        for i in range(k+1, n):\n",
    "            A[i,k] = 0\n",
    "            A[i,k+1:n] = A[i,k+1:n] - l[i-k-1] * A[k,k+1:n]\n",
    "            b[i] = b[i] - l[i-k-1] * b[k]\n",
    "    x = np.zeros(n)\n",
    "    x[n-1] = b[n-1] / A[n-1,n-1]\n",
    "    for k in range(n-2, -1, -1):\n",
    "        x[k] = (b[k] - np.dot(A[k,k+1:n], x[k+1:n])) / A[k,k]\n",
    "    return x"
   ]
  },
  {
   "cell_type": "markdown",
   "id": "5ff66813",
   "metadata": {},
   "source": [
    "Stwórz macierze wartości losowych `A` o wymiarach 10x10 oraz wektor `b` o odpowiednich wymiarach. \n",
    "Chcemy rozwiązać układ równań `Ax=b` metodami eliminacji Gaussa bez oraz z wyborem elementu głównego, a następnie porównać dokładność wyników. Metoda z wyborem elementu głównego powinna dawać mniejszy błąd w przypadku dużych wartości znajdujących się na przekątnej. Sprawdź czy to prawda powtarzając obliczenia z  macierzami `A` zawierającym na pierwszym elemencie przekątnej coraz to mniejsze wartości (tak aby wzrosło znaczenie dalszych elementów na przękątnej i tym samym uaktywnił się wybór innego niż pierwszy elementu głównego).\n",
    "\n",
    "Wskazówka:Do porównania możesz wykorzystać residuum. Jeżeli `x` jest rozwiązaniem układu to `Ax` powinno być równe `b`. Residuum to różnica pomiędzy `b` oraz `Ax`: `res=|b-Ax|`. Możesz porównać zawartości poszczególnych elementów lub obliczyć jakąś normę z otrzymanego wektora."
   ]
  },
  {
   "cell_type": "code",
   "execution_count": 7,
   "id": "de122a7f",
   "metadata": {},
   "outputs": [
    {
     "name": "stdout",
     "output_type": "stream",
     "text": [
      "residuum_gauss_pivot_list: [np.float64(3.682193206295148e-16), np.float64(4.871083751574258e-16), np.float64(5.661048867003677e-16), np.float64(4.0029660424867215e-16), np.float64(1.0877919644084148e-15), np.float64(4.996003610813205e-16), np.float64(4.4147945634195518e-16), np.float64(6.916653802134305e-16), np.float64(5.578801654593729e-16), np.float64(7.411310411386367e-16)]\n",
      "residuum_gauss_list: [np.float64(3.3306690738754696e-16), np.float64(6.661338147750939e-16), np.float64(5.087681048627601e-16), np.float64(8.563843312570936e-16), np.float64(5.578801654593729e-16), np.float64(1.5710734600032811e-15), np.float64(1.8292440505678062e-14), np.float64(3.784541690934187e-15), np.float64(3.2682116626025933e-15), np.float64(2.9282816290163836e-14)]\n",
      "a_values: [np.float64(0.9655286291359719), np.float64(0.865528629135972), np.float64(0.765528629135972), np.float64(0.665528629135972), np.float64(0.565528629135972), np.float64(0.46552862913597204), np.float64(0.36552862913597206), np.float64(0.2655286291359721), np.float64(0.16552862913597208), np.float64(0.06552862913597207)]\n"
     ]
    },
    {
     "name": "stderr",
     "output_type": "stream",
     "text": [
      "C:\\Users\\marci\\AppData\\Local\\Temp\\ipykernel_2092\\1405232222.py:13: DeprecationWarning: Conversion of an array with ndim > 0 to a scalar is deprecated, and will error in future. Ensure you extract a single element from your array before performing this operation. (Deprecated NumPy 1.25.)\n",
      "  x[n-1] = b[n-1] / A[n-1,n-1]\n",
      "C:\\Users\\marci\\AppData\\Local\\Temp\\ipykernel_2092\\1405232222.py:15: DeprecationWarning: Conversion of an array with ndim > 0 to a scalar is deprecated, and will error in future. Ensure you extract a single element from your array before performing this operation. (Deprecated NumPy 1.25.)\n",
      "  x[k] = (b[k] - np.dot(A[k,k+1:n], x[k+1:n])) / A[k,k]\n",
      "C:\\Users\\marci\\AppData\\Local\\Temp\\ipykernel_2092\\950098772.py:24: DeprecationWarning: Conversion of an array with ndim > 0 to a scalar is deprecated, and will error in future. Ensure you extract a single element from your array before performing this operation. (Deprecated NumPy 1.25.)\n",
      "  x[n-1] = b[n-1]/A[n-1,n-1]\n",
      "C:\\Users\\marci\\AppData\\Local\\Temp\\ipykernel_2092\\950098772.py:26: DeprecationWarning: Conversion of an array with ndim > 0 to a scalar is deprecated, and will error in future. Ensure you extract a single element from your array before performing this operation. (Deprecated NumPy 1.25.)\n",
      "  x[k] = (b[k] - np.dot(A[k,k+1:n], x[k+1:n])) / A[k,k]\n"
     ]
    },
    {
     "data": {
      "text/plain": [
       "<matplotlib.legend.Legend at 0x18a7fb78440>"
      ]
     },
     "execution_count": 7,
     "metadata": {},
     "output_type": "execute_result"
    },
    {
     "data": {
      "image/png": "[encoded data removed]",
      "text/plain": [
       "<Figure size 640x480 with 1 Axes>"
      ]
     },
     "metadata": {},
     "output_type": "display_data"
    }
   ],
   "source": [
    "A = np.random.rand(10,10)\n",
    "b = np.random.rand(10,1)\n",
    "\n",
    "a_values = []\n",
    "residuum_gauss_list = []\n",
    "residuum_gauss_pivot_list = []\n",
    "\n",
    "for i in range(10):\n",
    "    a_values.append(A[0,0])\n",
    "    residuum_gauss_list.append(np.linalg.norm(abs(b-A@(gauss(A, b).reshape(10,1))),2))\n",
    "    residuum_gauss_pivot_list.append(np.linalg.norm(b-A@(gauss_pivot(A, b).reshape(10,1)),2))\n",
    "    A[0,0] -= 0.1\n",
    "\n",
    "\n",
    "print(\"residuum_gauss_pivot_list:\", residuum_gauss_pivot_list)\n",
    "print(\"residuum_gauss_list:\", residuum_gauss_list)\n",
    "print(\"a_values:\", a_values)\n",
    "\n",
    "\n",
    "plt.figure()\n",
    "plt.scatter(a_values, residuum_gauss_list, label='gauss')\n",
    "plt.scatter(a_values, residuum_gauss_pivot_list, label='gauss_pivot')\n",
    "plt.yscale('log')\n",
    "plt.legend()"
   ]
  },
  {
   "cell_type": "markdown",
   "id": "6205d9cd",
   "metadata": {},
   "source": [
    "## Metody iteracyjne"
   ]
  },
  {
   "cell_type": "markdown",
   "id": "70a7dd5f",
   "metadata": {},
   "source": [
    "Innym sposobem na rozwiązanie układu równań liniowych jest wykorzystanie metod iteracyjnych, które generują ciągi przybliżeń wektora stanowiącego rozwiązanie układu. Państwa zadaniem będzie implementacja i porównanie zbieżności trzech najpopularniejszych metod iteracyjnego rozwiązywania układów równań liniowych"
   ]
  },
  {
   "cell_type": "markdown",
   "id": "254b4846",
   "metadata": {},
   "source": [
    "***Zadanie 4.***\n",
    "\n",
    "Porównanie zbieżności metod Jacobiego, Gaussa-Seidla i Younga (SOR).\n",
    "* Zaimplementuj solvery rozwiązujące układy równań metodami Jacobiego, Gaussa-Seidela  i Younga (SOR). Każda funkcja powinna przyjmować macierz A i wektor prawej strony b. Dla uproszczenia, dopuszczalne jest wykorzystanie  inv dla obliczenia macierzy odwrotnej do macierzy trójkątnej (w metodzie G-S i Younga).\n",
    "* Porównaj zbieżność ciągów iteracyjnych otrzymanych 3 metodami dla 3 układów równań (3 macierzy). W metodzie Younga możesz przyjąć np. $ω = 1.2$.\n",
    "* Dla macierzy, dla której metoda Younga okazała się zbieżna, porównaj zbieżność ciągów iteracyjnych otrzymanych dla wartości $0 < ω < 3$ (dodatkowe).\n",
    "* Dla jakiej wartości parametru $ω$ zbieżność ciągu iteracyjnego jest najlepsza? Wynik otrzymany na podstawie obserwacji ciągu odchyleń od rozwiązania dokładnego należy porównać z wnioskiem płynącym z wykresu zależności promienia spektralnego macierzy iteracji w zależności od parametru $ω$ (dodatkowe)."
   ]
  },
  {
   "cell_type": "code",
   "execution_count": 69,
   "id": "d641c66c",
   "metadata": {},
   "outputs": [
    {
     "name": "stdout",
     "output_type": "stream",
     "text": [
      "A:  [[10.73031585  0.57991931  0.91513243  0.64239848]\n",
      " [ 0.7877121  10.6861903   0.67936563  0.22722648]\n",
      " [ 0.7586735   0.6054964  10.32922171  0.57335828]\n",
      " [ 0.24101987  0.23772945  0.73275862 10.2005408 ]]\n",
      "b:  [[0.91169236]\n",
      " [0.71826045]\n",
      " [0.95011575]\n",
      " [0.89610604]]\n"
     ]
    }
   ],
   "source": [
    "A = np.random.rand(4, 4)\n",
    "A += np.eye(4)*10\n",
    "print('A: ', A)\n",
    "b = np.random.rand(4, 1)\n",
    "print('b: ', b)"
   ]
  },
  {
   "cell_type": "code",
   "execution_count": 71,
   "id": "abec86b8",
   "metadata": {},
   "outputs": [],
   "source": [
    "A = np.array([[10., -1., 2., 0.],\n",
    "              [-1., 11., -1., 3.],\n",
    "              [2., -1., 10., -1.],\n",
    "              [0.0, 3., -1., 8.]])\n",
    "b = np.array([6., 25., -11., 15.])"
   ]
  },
  {
   "cell_type": "code",
   "execution_count": 75,
   "id": "c364fb0d",
   "metadata": {},
   "outputs": [
    {
     "name": "stdout",
     "output_type": "stream",
     "text": [
      "Numpy solution: \n",
      "[ 1.  2. -1.  1.]\n"
     ]
    }
   ],
   "source": [
    "print(\"Numpy solution: \")\n",
    "solution = np.linalg.solve(A, b)\n",
    "print(solution)"
   ]
  },
  {
   "cell_type": "code",
   "execution_count": 96,
   "id": "0b96ab57",
   "metadata": {},
   "outputs": [
    {
     "name": "stdout",
     "output_type": "stream",
     "text": [
      "jacobi:  [ 1.  2. -1.  1.]\n",
      "gauss_seidel:  [ 1.  2. -1.  1.]\n",
      "sor:  [ 1.  2. -1.  1.]\n",
      "ITERATION LIMIT\n",
      "omegas:  [0.         0.05128205 0.1025641  0.15384615 0.20512821 0.25641026\n",
      " 0.30769231 0.35897436 0.41025641 0.46153846 0.51282051 0.56410256\n",
      " 0.61538462 0.66666667 0.71794872 0.76923077 0.82051282 0.87179487\n",
      " 0.92307692 0.97435897 1.02564103 1.07692308 1.12820513 1.17948718\n",
      " 1.23076923 1.28205128 1.33333333 1.38461538 1.43589744 1.48717949\n",
      " 1.53846154 1.58974359 1.64102564 1.69230769 1.74358974 1.79487179\n",
      " 1.84615385 1.8974359  1.94871795 2.        ]\n",
      "spectral_radius:  [np.float64(1.0), np.float64(0.9660808026344277), np.float64(0.931531899949892), np.float64(0.8963134039579372), np.float64(0.8603802357904914), np.float64(0.8236810376729513), np.float64(0.7861567584497683), np.float64(0.7477387808308403), np.float64(0.7083463893370492), np.float64(0.6678832624954015), np.float64(0.6262324722573195), np.float64(0.5832491079072049), np.float64(0.5387489353527022), np.float64(0.49249003836279914), np.float64(0.4441410700680459), np.float64(0.3932212949925456), np.float64(0.33897233911954366), np.float64(0.2800252164221399), np.float64(0.21315394482083544), np.float64(0.12180023697154725), np.float64(0.0723554707360146), np.float64(0.10452229336580911), np.float64(0.15247296728102114), np.float64(0.20222091703156), np.float64(0.25242050363551494), np.float64(0.30274903461572755), np.float64(0.3530910762994088), np.float64(0.4033952221586814), np.float64(0.4536351393272618), np.float64(0.5037959539197172), np.float64(0.553868634705441), np.float64(0.6038473839948203), np.float64(0.6537283116708525), np.float64(0.7035087121164739), np.float64(0.7531866468250189), np.float64(0.8027606918805711), np.float64(0.8522297790369453), np.float64(0.9015930922815669), np.float64(0.9508499985301716), np.float64(1.0000000000000004)]\n",
      "sor_solution_errors:  [np.float64(2.6457513110645907), np.float64(3.903379624878476e-09), np.float64(1.8917650139475953e-09), np.float64(1.2084555457026141e-09), np.float64(8.000961181026825e-10), np.float64(5.713810862136303e-10), np.float64(4.987999742328364e-10), np.float64(4.224236224329254e-10), np.float64(3.16009134793329e-10), np.float64(2.677046838054299e-10), np.float64(1.953515004316147e-10), np.float64(1.5157091912734758e-10), np.float64(1.9584845183432158e-10), np.float64(1.0544697054048753e-10), np.float64(1.3593805118868377e-10), np.float64(6.892749994838523e-11), np.float64(4.745666044543523e-11), np.float64(2.9052476301362722e-11), np.float64(9.313618511837188e-12), np.float64(3.945236485763388e-12), np.float64(3.513497398190587e-12), np.float64(1.1698952857977938e-11), np.float64(3.1163651557235987e-12), np.float64(7.084907444575544e-12), np.float64(1.7019062849984303e-11), np.float64(1.3234273038963172e-11), np.float64(1.6553309669747085e-11), np.float64(2.932925304988798e-11), np.float64(3.27583684653739e-11), np.float64(2.8724747935247697e-11), np.float64(4.8374147704012715e-11), np.float64(3.208155857355175e-11), np.float64(3.573841540175044e-11), np.float64(4.099209434543354e-11), np.float64(3.9657905597734754e-11), np.float64(4.508677414085306e-11), np.float64(5.5588399434905825e-11), np.float64(7.126540838931718e-11), np.float64(9.02736848447126e-11), np.float64(3.536533463032622)]\n"
     ]
    },
    {
     "data": {
      "text/plain": [
       "Text(0, 0.5, 'error')"
      ]
     },
     "execution_count": 96,
     "metadata": {},
     "output_type": "execute_result"
    },
    {
     "data": {
      "image/png": "[encoded data removed]",
      "text/plain": [
       "<Figure size 640x480 with 1 Axes>"
      ]
     },
     "metadata": {},
     "output_type": "display_data"
    },
    {
     "data": {
      "image/png": "[encoded data removed]",
      "text/plain": [
       "<Figure size 1400x500 with 2 Axes>"
      ]
     },
     "metadata": {},
     "output_type": "display_data"
    }
   ],
   "source": [
    "ITERATION_LIMIT = 1000\n",
    "\n",
    "jacobi_x1 = []\n",
    "\n",
    "def jacobi(A: np.ndarray, b:np.ndarray) -> np.ndarray:\n",
    "    L = np.tril(A,-1)\n",
    "    D = np.tril(np.triu(A))\n",
    "    U = np.triu(A,1)\n",
    "    x = np.zeros(b.shape)\n",
    "\n",
    "    for _ in range(ITERATION_LIMIT):\n",
    "        x_new: np.float256 = -np.linalg.inv(D)@(L+U)@x+np.linalg.inv(D)@b\n",
    "        jacobi_x1.append(x_new[0])\n",
    "        if np.allclose(x, x_new, atol=1e-10, rtol=0):\n",
    "            return x_new\n",
    "        else: \n",
    "            x = x_new\n",
    "\n",
    "    print(\"ITERATION LIMIT\")\n",
    "    return x\n",
    "\n",
    "gauss_seidel_x1 = []\n",
    "\n",
    "def gauss_seidel(A: np.ndarray, b:np.ndarray) -> np.ndarray:\n",
    "    L = np.tril(A,-1)\n",
    "    D = np.tril(np.triu(A))\n",
    "    U = np.triu(A,1)\n",
    "    x = np.zeros(b.shape)\n",
    "\n",
    "    T_g = -np.linalg.inv(L+D)@U\n",
    "\n",
    "    for _ in range(ITERATION_LIMIT):\n",
    "        x_new: np.float256 = T_g@x+np.linalg.inv(L+D)@b\n",
    "        gauss_seidel_x1.append(x_new[0])\n",
    "        if np.allclose(x, x_new, atol=1e-10, rtol=0):\n",
    "            return x_new\n",
    "        else: \n",
    "            x = x_new\n",
    "\n",
    "    print(\"ITERATION LIMIT\")\n",
    "    return x\n",
    "\n",
    "sor_x1 = []\n",
    "spectral_radius = []\n",
    "\n",
    "def sor(A: np.ndarray, b:np.ndarray, omega:float = 1) -> np.ndarray:\n",
    "    L = np.tril(A, k=-1)\n",
    "    D = np.diag(np.diag(A))\n",
    "    U = np.triu(A, k=1)\n",
    "    x = np.zeros(b.shape)\n",
    "\n",
    "    T_1 = np.linalg.inv(omega*L+D)\n",
    "    T_g = T_1@((1-omega)*D-omega*U)\n",
    "    spectral_radius.append(np.max(abs(np.linalg.eigvals(T_g))))\n",
    "\n",
    "    for _ in range(ITERATION_LIMIT):\n",
    "        x_new = T_g@x+omega*T_1@b\n",
    "        sor_x1.append(x_new[0])\n",
    "        if np.allclose(x, x_new, atol=1e-10, rtol=0):\n",
    "            return x_new\n",
    "        else: \n",
    "            x = x_new\n",
    "\n",
    "    print(\"ITERATION LIMIT\")\n",
    "    return x\n",
    "\n",
    "print(\"jacobi: \", jacobi(A, b))\n",
    "print(\"gauss_seidel: \", gauss_seidel(A, b))\n",
    "print(\"sor: \", sor(A, b))\n",
    "\n",
    "iterations = np.arange(max(len(jacobi_x1), len(gauss_seidel_x1), len(sor_x1)))\n",
    "plt.figure()\n",
    "plt.plot(iterations[:len(jacobi_x1)], jacobi_x1, label='jacobi')\n",
    "plt.plot(iterations[:len(gauss_seidel_x1)], gauss_seidel_x1, label='gauss_seidel')\n",
    "plt.plot(iterations[:len(sor_x1)], sor_x1, label='sor')\n",
    "plt.scatter(iterations[len(jacobi_x1)-1], jacobi_x1[-1])\n",
    "plt.scatter(iterations[len(gauss_seidel_x1)-1], gauss_seidel_x1[-1])\n",
    "plt.scatter(iterations[len(sor_x1)-1], sor_x1[-1])\n",
    "plt.xlabel(\"iteration\")\n",
    "plt.ylabel(\"$x$\")\n",
    "plt.legend()\n",
    "\n",
    "omegas = np.linspace(0, 2, 40)\n",
    "spectral_radius = []\n",
    "sor_solution_errors = []\n",
    "\n",
    "for omega in omegas:\n",
    "    sor_solution = sor(A, b, omega=omega)\n",
    "    sor_solution_errors.append(np.linalg.norm(abs(sor_solution-solution), 2))\n",
    "\n",
    "print('omegas: ', omegas)\n",
    "print('spectral_radius: ', spectral_radius)\n",
    "print('sor_solution_errors: ', sor_solution_errors)\n",
    "plt.figure(figsize=(14,5))\n",
    "plt.subplot(1,2,1)\n",
    "plt.plot(omegas, spectral_radius)\n",
    "plt.xlabel(\"$ω$\")\n",
    "plt.ylabel(\"$ρ(T)$\")\n",
    "\n",
    "plt.subplot(1,2,2)\n",
    "plt.plot(omegas, sor_solution_errors)\n",
    "plt.xlabel(\"$ω$\")\n",
    "plt.yscale('log')\n",
    "plt.ylabel(\"error\")\n"
   ]
  },
  {
   "cell_type": "markdown",
   "id": "5719a332",
   "metadata": {},
   "source": [
    "## Porównanie rozwiązania za pomocą metody `solve` oraz z użyciem odwrotności na przykładzie macierzy źle uwarunkowanej"
   ]
  },
  {
   "cell_type": "markdown",
   "id": "integral-blade",
   "metadata": {},
   "source": [
    "***Zadanie 5.***\n",
    "\n",
    "Dany jest układ równań $Hx=b$.\n",
    "* H jest macierzą Hilberta o wymiarach $n=5x5$ (I przypadek) i $n=15x15$ (II przypadek),\n",
    "* b jest wektorem o następujących elementach $b_i = 1/(n + i + 1)$ Uwaga: $i=1,\\dots,n$.\n",
    "\n",
    "Do rozwiązania układu wykorzystaj dwa algorytmy:\n",
    "1. Z odwracaniem macierzy współczynników H.\n",
    "2. Metodę `numpy.linalg.solve`.\n",
    "\n",
    "Porównaj błędy obu rozwiązań. Aby ocenić błąd możesz:\n",
    "* wyznaczyć wektor residuum otrzymanego rozwiązania,\n",
    "* rozwiązać układ równań z innym wektorem $b$. Załóż, że wektor rozwiązania ma wszystkie elementy (współrzędne) równe 1 ($u_i = 1, i = 1, 2, . . . , n$). Wtedy $b = Hu$. Układ rozwiążemy bez korzystania z wiedzy o postaci $u$. Dopiero wynik porównamy ze znanym nam $u$."
   ]
  },
  {
   "cell_type": "code",
   "execution_count": 106,
   "id": "killing-cancer",
   "metadata": {},
   "outputs": [
    {
     "name": "stdout",
     "output_type": "stream",
     "text": [
      "n:  5\n",
      "cond:  476607.2502422687\n",
      "inverse_solution:  [ 0.01082251 -0.31168831  2.04545455 -4.84848485  4.09090909]\n",
      "solution:  [ 0.01082251 -0.31168831  2.04545455 -4.84848485  4.09090909]\n",
      "norm_residuum_inverse_solution:  1.1800823524349203e-12\n",
      "norm_residuum_solution:  1.6711069443220838e-16\n",
      "n:  15\n",
      "cond:  3.67568286586649e+17\n",
      "inverse_solution:  [-2.52620906e-02  1.11441898e+00 -3.20996857e+00  1.98071289e+00\n",
      " -3.96582031e+00  1.91484375e+01 -2.42187500e+01 -2.06250000e+00\n",
      "  2.26250000e+01  3.75000000e+00 -4.42500000e+01  3.42500000e+01\n",
      "  1.24375000e+01 -3.09375000e+01  1.39967041e+01]\n",
      "solution:  [ 1.36567910e-06 -2.13999504e-04  8.27411991e-03 -1.37638708e-01\n",
      "  1.21905879e+00 -6.35333114e+00  2.02423466e+01 -3.84936965e+01\n",
      "  3.64337529e+01  4.17203006e+00 -4.69481288e+01  3.55735904e+01\n",
      "  1.22179954e+01 -3.09027171e+01  1.39686756e+01]\n",
      "norm_residuum_inverse_solution:  0.09372673054032116\n",
      "norm_residuum_solution:  2.0036829624022413e-15\n"
     ]
    }
   ],
   "source": [
    "for n in [5, 15]:\n",
    "    print('n: ', n)\n",
    "    H = scipy.linalg.hilbert(n)\n",
    "    b = np.ones(n)\n",
    "    print('cond: ', np.linalg.cond(H))\n",
    "    for i in range(len(b)):\n",
    "        b[i] /= n+(i+1)+1\n",
    "    inverse_solution = np.linalg.inv(H)@b\n",
    "    solution = np.linalg.solve(H, b)\n",
    "    print('inverse_solution: ', inverse_solution)\n",
    "    print('solution: ', solution)\n",
    "    norm_residuum_inverse_solution = np.linalg.norm(abs(H@inverse_solution-b), 2)\n",
    "    norm_residuum_solution = np.linalg.norm(abs(H@solution-b), 2)\n",
    "    print('norm_residuum_inverse_solution: ', norm_residuum_inverse_solution)\n",
    "    print('norm_residuum_solution: ', norm_residuum_solution)\n"
   ]
  },
  {
   "cell_type": "markdown",
   "id": "22ae3d15",
   "metadata": {},
   "source": [
    "**Zadanie domowe. Znaczenie wskaźnika uwarunkowania macierzy w szacowaniu błędu rozwiązania**\n",
    "\n",
    "\n",
    "Dana jest następująca macierz A współczynników układu dwóch równań liniowy:\n",
    "$$A=\\begin{bmatrix}10^5 & 9.9\\cdot10^4\\\\1.00001& 0.99\\end{bmatrix}$$\n",
    "\n",
    "Wektor prawej strony równania $Ax=b$ dla rozwiązania x = $[1, 1]^T$ możemy wyznaczyć z równości $b = Ax$.\n",
    "\n",
    "Należy:\n",
    "* obliczyć wskaźnik uwarunkowania macierzy $A$,\n",
    "* rozwiązać układ równań $Ax = b$ (nie korzystając z wiedzy o przyjętym rozwiązaniu dokładnym x) korzystając z funkcji `np.linalg.solve`,\n",
    "* ocenić błąd otrzymanego rozwiązania i porównać go z błędem szacowanym za pomocą wskaźnika uwarunkowania macierzy A,\n",
    "* przeprowadzić skalowanie tak, aby macierz $A$ była wyważona wierszami,\n",
    "* wyznaczyć nowe wartości wektora b tak, aby rozwiązanie dokładne się nie\n",
    "zmieniło,\n",
    "* obliczyć wskaźnik uwarunkowania macierzy skalowanej,\n",
    "* rozwiązać układ równań tą samą metodą jak poprzednio,\n",
    "* ocenić błąd otrzymanego rozwiązania i porównać go z błędem szacowanym za pomocą wskaźnika uwarunkowania skalowanej macierzy $A$.\n",
    "1. Czy błąd numeryczny rozwiązania w obu przypadkach jest tego samego rzędu?\n",
    "2. Które szacowanie błędu jest bardziej zbliżone do faktycznego błędu?"
   ]
  },
  {
   "cell_type": "code",
   "execution_count": 143,
   "id": "5067fa3f",
   "metadata": {},
   "outputs": [
    {
     "name": "stdout",
     "output_type": "stream",
     "text": [
      "cond\n",
      " 20001010102.66865\n",
      "b\n",
      " [[1.99000e+05]\n",
      " [1.99001e+00]]\n",
      "x\n",
      " [[1.]\n",
      " [1.]]\n",
      "error:  [[ 1.11022302e-11]\n",
      " [-1.12143628e-11]]\n",
      "sum of error - abs(x_real - x):\n",
      " 2.2316593017990272e-11\n",
      "error_estimate\n",
      " 2.2317167769480215e-11\n",
      "199000.0\n",
      "1.99001\n",
      "199000.0\n",
      "199000.0\n",
      "---\n",
      "b\n",
      " [[199000.]\n",
      " [199000.]]\n",
      "cond\n",
      " 400022.2222179\n",
      "x\n",
      " [[1.]\n",
      " [1.]]\n",
      "error:  [[0.]\n",
      " [0.]]\n",
      "sum of error - abs(x_real - x):\n",
      " 0.0\n",
      "error_estimate\n",
      " 0.0\n"
     ]
    }
   ],
   "source": [
    "A = np.array([[10**5, 9.9e4], [1.00001, 0.99]])\n",
    "cond = np.linalg.cond(A)\n",
    "print('cond\\n', cond)\n",
    "\n",
    "x_real = np.array([[1], [1]])\n",
    "\n",
    "b = A@x_real\n",
    "print('b\\n', b)\n",
    "\n",
    "x = np.linalg.solve(A, b)\n",
    "print('x\\n', x)\n",
    "\n",
    "error = x_real - x\n",
    "print('error: ', error)\n",
    "print('sum of error - abs(x_real - x):\\n', np.sum(abs(error)))\n",
    "\n",
    "error_estimate = cond * (np.linalg.norm(b-A@x, 2))/(np.linalg.norm(b, 2))\n",
    "print('error_estimate\\n', error_estimate)\n",
    "\n",
    "# SKALOWANIE WIERSZY\n",
    "\n",
    "for i in range(A.shape[0]):\n",
    "    print(np.sum(A[i])) \n",
    "# 199000.0\n",
    "# 1.99001\n",
    "\n",
    "A[1] *= (199000.0/1.99001)\n",
    "\n",
    "for i in range(A.shape[0]):\n",
    "    print(np.sum(A[i])) \n",
    "# 199000.0\n",
    "# 199000.0\n",
    "\n",
    "# teraz macierz A jest wyważona wierszami\n",
    "print(\"---\")\n",
    "\n",
    "b = A@x_real\n",
    "print('b\\n', b)\n",
    "cond = np.linalg.cond(A)\n",
    "print('cond\\n', cond)\n",
    "\n",
    "x = np.linalg.solve(A, b)\n",
    "print('x\\n', x)\n",
    "\n",
    "error = x_real - x\n",
    "print('error: ', error)\n",
    "print('sum of error - abs(x_real - x):\\n', np.sum(abs(error)))\n",
    "\n",
    "error_estimate = cond * (np.linalg.norm(b-A@x, 2))/(np.linalg.norm(b, 2))\n",
    "print('error_estimate\\n', error_estimate)\n"
   ]
  },
  {
   "cell_type": "markdown",
   "id": "70f67c86",
   "metadata": {},
   "source": [
    "1. **Czy błąd numeryczny rozwiązania w obu przypadkach jest tego samego rzędu?**\n",
    "\n",
    "Nie, kiedy macierz jest wyważona wierszami, bład jest o wiele mniejszy (zerowy), jest to spowodowane mniejszym współczynnikiem uwarunkowania macierzy A po skalowaniu.\n",
    "\n",
    "2. **Które szacowanie błędu jest bardziej zbliżone do faktycznego błędu?**\n",
    "\n",
    "W drugim przypadku górna granica oszacowania błędu wyniosła 0 co odzwierciedla rzeczywisty brak błędu. Więc poprawną odpowiedzią będzie stwierdzenie że drugie szacowanie."
   ]
  }
 ],
 "metadata": {
  "kernelspec": {
   "display_name": "venv",
   "language": "python",
   "name": "python3"
  },
  "language_info": {
   "codemirror_mode": {
    "name": "ipython",
    "version": 3
   },
   "file_extension": ".py",
   "mimetype": "text/x-python",
   "name": "python",
   "nbconvert_exporter": "python",
   "pygments_lexer": "ipython3",
   "version": "3.12.5"
  }
 },
 "nbformat": 4,
 "nbformat_minor": 5
}
