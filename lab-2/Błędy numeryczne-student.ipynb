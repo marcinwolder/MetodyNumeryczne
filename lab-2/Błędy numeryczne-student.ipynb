{
 "cells": [
  {
   "cell_type": "markdown",
   "id": "different-patrol",
   "metadata": {},
   "source": [
    "# Błędy numeryczne"
   ]
  },
  {
   "cell_type": "markdown",
   "id": "laughing-breeding",
   "metadata": {},
   "source": [
    "Zagadnienia:\n",
    "* Reprezentacja liczb w komputerze:\n",
    "    * Zapis stałoprzecinkowy,\n",
    "    * Zapis zmiennoprzecinkowy (standard IEEE 754),\n",
    "* Błędy numeryczne:\n",
    "    * Błąd względny i bezwzględny.\n",
    "    * Błąd zaokrąglenia (ang. *round-off error*).\n",
    "    * Błąd obcięcia (ang. *truncation error*).\n",
    "    * Błędy związane z przyjętym sposobem rozwiązywania."
   ]
  },
  {
   "cell_type": "markdown",
   "id": "rotary-frank",
   "metadata": {},
   "source": [
    "## Błąd względny i bezwzględny"
   ]
  },
  {
   "cell_type": "markdown",
   "id": "actual-representation",
   "metadata": {},
   "source": [
    "***Zadanie 1.***  \n",
    "Liczbę $\\textrm{e}$ możemy zdefiniować jako $\\sum\\limits_{n=0}^{\\infty} \\frac{1}{n!}$. Oblicz błąd względny i bezwzględny aproksymacji liczby $\\textrm{e}$ poprzez $\\textrm{e}^{*}$ w przypadku gdy:  \n",
    "* $\\textrm{e}_1^{*}=\\sum\\limits_{n=0}^{5} \\frac{1}{n!}$    \n",
    "\n",
    "* $\\textrm{e}_2^{*}=\\sum\\limits_{n=0}^{10} \\frac{1}{n!}$  \n",
    "\n",
    "* $\\textrm{e}_3^{*}=\\sum\\limits_{n=0}^{20} \\frac{1}{n!}$  "
   ]
  },
  {
   "cell_type": "code",
   "execution_count": 99,
   "id": "chinese-mathematics",
   "metadata": {},
   "outputs": [
    {
     "name": "stdout",
     "output_type": "stream",
     "text": [
      "np.e = 2.718281828459045\n",
      "E1: wartość=2.7166666666666663, błąd bezwzględny=0.0016151617923787498, błąd względny=0.0005941848175817597\n",
      "E1: wartość=2.718281801146384, błąd bezwzględny=2.7312661021738904e-08, błąd względny=1.0047766473582343e-08\n",
      "E1: wartość=2.7182818284590446, błąd bezwzględny=4.440892098500626e-16, błąd względny=1.6337129034990842e-16\n"
     ]
    }
   ],
   "source": [
    "import numpy as np\n",
    "import math\n",
    "\n",
    "print(f\"{np.e = }\")\n",
    "e1 = np.sum([1/math.factorial(n) for n in np.arange(6)])\n",
    "print(f\"E1: wartość={e1}, błąd bezwzględny={abs(np.e-e1)}, błąd względny={abs(np.e-e1)/abs(np.e)}\")\n",
    "e2 = np.sum([1/math.factorial(n) for n in np.arange(11)])\n",
    "print(f\"E1: wartość={e2}, błąd bezwzględny={abs(np.e-e2)}, błąd względny={abs(np.e-e2)/abs(np.e)}\")\n",
    "e3 = np.sum([1/math.factorial(n) for n in np.arange(21)])\n",
    "print(f\"E1: wartość={e3}, błąd bezwzględny={abs(np.e-e3)}, błąd względny={abs(np.e-e3)/abs(np.e)}\")"
   ]
  },
  {
   "cell_type": "markdown",
   "id": "fiscal-momentum",
   "metadata": {},
   "source": [
    "## Zapis zmiennoprzecinkowy"
   ]
  },
  {
   "cell_type": "markdown",
   "id": "final-venezuela",
   "metadata": {},
   "source": [
    "**Uwaga**: Używane tu pojęcie **cecha** ma inne znaczenie, niż poznane być może w szkole – skrótowo: „część całkowita”. Dlatego poniżej dodawane jest inne określenie – „wykładnik”."
   ]
  },
  {
   "cell_type": "code",
   "execution_count": 100,
   "id": "painful-monitoring",
   "metadata": {},
   "outputs": [],
   "source": [
    "import numpy as np\n",
    "import matplotlib.pyplot as plt\n",
    "import sys"
   ]
  },
  {
   "cell_type": "code",
   "execution_count": 101,
   "id": "collectible-survivor",
   "metadata": {
    "scrolled": true
   },
   "outputs": [
    {
     "name": "stdout",
     "output_type": "stream",
     "text": [
      "Machine parameters for float64\n",
      "---------------------------------------------------------------\n",
      "precision =  15   resolution = 1.0000000000000001e-15\n",
      "machep =    -52   eps =        2.2204460492503131e-16\n",
      "negep =     -53   epsneg =     1.1102230246251565e-16\n",
      "minexp =  -1022   tiny =       2.2250738585072014e-308\n",
      "maxexp =   1024   max =        1.7976931348623157e+308\n",
      "nexp =       11   min =        -max\n",
      "smallest_normal = 2.2250738585072014e-308   smallest_subnormal = 4.9406564584124654e-324\n",
      "---------------------------------------------------------------\n",
      "\n"
     ]
    }
   ],
   "source": [
    "print(np.finfo(float))\n",
    "eps = np.finfo(float).eps"
   ]
  },
  {
   "cell_type": "markdown",
   "id": "registered-immigration",
   "metadata": {},
   "source": [
    "***Zadanie 2.***\n",
    "\n",
    "\n",
    "a) Wstaw dowolną wartość do liczby x, np. 0.1. Które liczby mają tę samą mantysę, a które tę samą cechę (wykładnik)? Sprawdź wypisując ich wartości w formacie hex.\n"
   ]
  },
  {
   "cell_type": "markdown",
   "id": "sapphire-tuesday",
   "metadata": {},
   "source": [
    "**Uwaga:** Do odczytania liczby w formacie szesnastkowym możesz wykorzystać funkcję:"
   ]
  },
  {
   "cell_type": "code",
   "execution_count": 102,
   "id": "concrete-webmaster",
   "metadata": {},
   "outputs": [
    {
     "data": {
      "text/plain": [
       "'0x1.4000000000000p+0'"
      ]
     },
     "execution_count": 102,
     "metadata": {},
     "output_type": "execute_result"
    }
   ],
   "source": [
    "1.25.hex()"
   ]
  },
  {
   "cell_type": "code",
   "execution_count": 103,
   "id": "96e3aec4",
   "metadata": {},
   "outputs": [
    {
     "data": {
      "text/plain": [
       "'0x1.0000000000000p+1'"
      ]
     },
     "execution_count": 103,
     "metadata": {},
     "output_type": "execute_result"
    }
   ],
   "source": [
    "2.0.hex()"
   ]
  },
  {
   "cell_type": "markdown",
   "id": "constant-sphere",
   "metadata": {},
   "source": [
    "lub"
   ]
  },
  {
   "cell_type": "code",
   "execution_count": 104,
   "id": "humanitarian-somerset",
   "metadata": {},
   "outputs": [],
   "source": [
    "import struct\n",
    "def double_to_hex(f):\n",
    "    return str(hex(struct.unpack('!Q', struct.pack('!d', f))[0]))[2:]\n",
    "def hex_to_double(h):\n",
    "    return struct.unpack('!d', bytes.fromhex(h))[0]"
   ]
  },
  {
   "cell_type": "code",
   "execution_count": 105,
   "id": "regular-possibility",
   "metadata": {
    "scrolled": true
   },
   "outputs": [
    {
     "name": "stdout",
     "output_type": "stream",
     "text": [
      "4031200000000000\n",
      "403f400000000000\n",
      "4040200000000000\n",
      "---\n",
      "4019000000000000\n",
      "4039000000000000\n"
     ]
    }
   ],
   "source": [
    "# CECHA TA SAMA\n",
    "# Największy wykładnik mieszczący się do cechy: 4 => 4+1023 = 1027 = (sign)0 100 0000 0011 = 403\n",
    "print(double_to_hex(17.125))\n",
    "print(double_to_hex(31.25))\n",
    "# Największy wykładnik mieszczący się do cechy: 5 => 5+1023 = 1028 = (sign)0 100 0000 0100 = 404\n",
    "print(double_to_hex(32.25))\n",
    "\n",
    "print(\"---\")\n",
    "\n",
    "# MANTYSA TA SAMA\n",
    "# Czyli po prostu mnożnik cechy: 1.25 jest taki sam\n",
    "print(double_to_hex(5*1.25))\n",
    "print(double_to_hex(20*1.25))"
   ]
  },
  {
   "cell_type": "markdown",
   "id": "heated-session",
   "metadata": {},
   "source": [
    "Zamianę w drugą stronę można przeprowadzić za pomocą funkcji *int*"
   ]
  },
  {
   "cell_type": "code",
   "execution_count": 106,
   "id": "three-butler",
   "metadata": {},
   "outputs": [
    {
     "name": "stdout",
     "output_type": "stream",
     "text": [
      "1023\n"
     ]
    }
   ],
   "source": [
    "print(int('3ff', 16))"
   ]
  },
  {
   "cell_type": "markdown",
   "id": "higher-router",
   "metadata": {},
   "source": [
    "\n",
    "\n",
    "b) Porównaj zapis liczb 0.1, 0.2 i 0.3 w formacie zmiennoprzecinkowym.\n",
    "\n",
    "* Czy można przewidzieć, czy suma 0.1 + 0.2 będzie reprezentowana dokładnie tak samo jak liczba 0.3?\n",
    "* Jaki będzie wynik porównania tej sumy z liczbą 0.3 i konsekwencje użycia warunku równościowego / nierównościowego w pętli?\n",
    "\n"
   ]
  },
  {
   "cell_type": "code",
   "execution_count": 107,
   "id": "limiting-paradise",
   "metadata": {},
   "outputs": [
    {
     "name": "stdout",
     "output_type": "stream",
     "text": [
      "3fb999999999999a\n",
      "3fc999999999999a\n",
      "------------------- +\n",
      "3fd3333333333334 \n",
      "\n",
      "3fd3333333333333\n"
     ]
    }
   ],
   "source": [
    "print(double_to_hex(0.1))\n",
    "print(double_to_hex(0.2))\n",
    "print(\"------------------- +\")\n",
    "print(double_to_hex(0.1+0.2), '\\n')\n",
    "\n",
    "print(double_to_hex(0.3))"
   ]
  },
  {
   "cell_type": "markdown",
   "id": "brutal-windows",
   "metadata": {},
   "source": [
    "c) Przyjmijmy, że „skrótowe” określenie *liczba dokładnie reprezentowana* oznacza liczbę, która jest reprezentowana w formacie zmiennoprzecinkowym dokładnie, tzn. bez konieczności zaokrąglania.\n",
    "* Ile jest liczb dokładnie reprezentowanych w przedziale $[1, 2)$?\n",
    "* Zaobserwuj (z pomocą formatu hex) jakie wartości mają bity w polu mantysy w przypadku liczby 1.0.\n",
    "* Jaką liczbę trzeba dodać do 1.0, aby tylko na najmłodszej pozycji pola mantysy pojawiło się 1?\n",
    "* Czy wyżej otrzymana suma jest najmniejszą liczbą dokładnie reprezentowana, spośród liczb większych od 1?\n",
    "* Jak przypuszczasz, jakie wartości będą miały poszczególne bity mantysy w przypadku największej liczby dokładnie reprezentowanej, której cecha (wykładnik) jest równy 0? Sprawdź, czy tak jest rzeczywiście – wpisując wartość tej liczby (jaka to jest wartość?).\n"
   ]
  },
  {
   "cell_type": "code",
   "execution_count": 108,
   "id": "operating-cotton",
   "metadata": {},
   "outputs": [
    {
     "name": "stdout",
     "output_type": "stream",
     "text": [
      "0x1.fffeb074a771dp-1\n",
      "3ff0000000000000\n",
      "0x1.0000000000000p+0\n",
      "0x1.ffff583a53b8ep+0\n",
      "0x1.0000000000000p+1\n",
      "3ff0000000000001\n",
      "1.9999999999999998\n"
     ]
    }
   ],
   "source": [
    "print(0.99999.hex())\n",
    "print(double_to_hex(1.0))\n",
    "print(1.0.hex())\n",
    "print(1.99999.hex())\n",
    "print(2.0.hex())\n",
    "\n",
    "# 1.\n",
    "# Liczby [1,2) mają wykładnik 0 => cecha = 3FF\n",
    "# Więc jest tyle liczb dokładnie reprezentowanych ile możliwości mantysy czyli: n^52\n",
    "\n",
    "# 2. \n",
    "# Dla liczby 1.0 bity w polu mantysy mają wartości 0, ponieważ wykładnik = 0, czyli 2^0 = 1, więc mantysa jest znormalizowaną 1\n",
    "\n",
    "# 3. \n",
    "print(double_to_hex(1.0+eps)) # 3ff0000000000001\n",
    "# Epsilon typu Float64\n",
    "\n",
    "# 4.\n",
    "# TAK\n",
    "\n",
    "# 5.\n",
    "# wykładnik = 0 -> cecha = 3FF\n",
    "# mantysa - największa -> mantysa = FFFFFFFFFFFFF\n",
    "print(hex_to_double(\"3FFFFFFFFFFFFFFF\")) # 1.9999999999999998"
   ]
  },
  {
   "cell_type": "markdown",
   "id": "straight-institute",
   "metadata": {},
   "source": [
    "d) Oblicz długości przedziałów, do których należą wszystkie liczby mające cechę (wykładnik) równy: 0, 1, 2, 5, -1, -3.\n",
    "\n",
    "* Czy w każdym z tych przedziałów jest tyle samo liczb dokładnie reprezentowanych? Jeżeli nie, to ile w każdym z nich?\n",
    "* Jaka jest odległość między dwoma sąsiednimi liczbami dokładnie reprezentowanymi (odległość, czyli różnica ich wartości) w każdym z tych przedziałów?\n",
    "* Jaki jest maksymalny błąd bezwzględny zaokrąglenia w każdym z tych przedziałów?\n",
    "* Jaki jest maksymalny błąd względny zaokrąglenia w każdym z tych przedziałów?\n",
    "\n",
    "\n",
    "\n"
   ]
  },
  {
   "cell_type": "code",
   "execution_count": 109,
   "id": "confirmed-stream",
   "metadata": {},
   "outputs": [
    {
     "name": "stdout",
     "output_type": "stream",
     "text": [
      "wykładnik=0, cecha=3ff\n",
      "[1.0,1.9999999999999998]\n",
      "długość przedziału=0.9999999999999998\n",
      "wykładnik=1, cecha=400\n",
      "[2.0,3.9999999999999996]\n",
      "długość przedziału=1.9999999999999996\n",
      "wykładnik=2, cecha=401\n",
      "[4.0,7.999999999999999]\n",
      "długość przedziału=3.999999999999999\n",
      "wykładnik=5, cecha=404\n",
      "[32.0,63.99999999999999]\n",
      "długość przedziału=31.999999999999993\n",
      "wykładnik=-1, cecha=3fe\n",
      "[0.5,0.9999999999999999]\n",
      "długość przedziału=0.4999999999999999\n",
      "wykładnik=-3, cecha=3fc\n",
      "[0.125,0.24999999999999997]\n",
      "długość przedziału=0.12499999999999997\n"
     ]
    }
   ],
   "source": [
    "exponents = [0, 1, 2, 5, -1, -3]\n",
    "\n",
    "for exp in exponents:\n",
    "    cecha = str(hex(exp+1023))[2:]\n",
    "    print(f\"wykładnik={exp}, cecha={cecha}\")\n",
    "    start = hex_to_double(cecha+\"0000000000000\")\n",
    "    end = hex_to_double(cecha+\"FFFFFFFFFFFFF\")\n",
    "    print(f\"[{start},{end}]\")\n",
    "    print(f\"długość przedziału={end-start}\")\n",
    "    "
   ]
  },
  {
   "cell_type": "markdown",
   "id": "toxic-sixth",
   "metadata": {},
   "source": [
    "***Zadanie 3.***\n",
    "\n",
    "Spójrz na poniższe zjawiska, zastanów się nad ich przyczynami."
   ]
  },
  {
   "cell_type": "markdown",
   "id": "further-freedom",
   "metadata": {},
   "source": [
    "***Problem skali***"
   ]
  },
  {
   "cell_type": "markdown",
   "id": "removable-victory",
   "metadata": {},
   "source": [
    "Jaki wynika da poniższy kod:"
   ]
  },
  {
   "cell_type": "code",
   "execution_count": 110,
   "id": "adjusted-delivery",
   "metadata": {},
   "outputs": [
    {
     "name": "stdout",
     "output_type": "stream",
     "text": [
      "1.00000000000000000000000000000000000000000000000000000000000000000000000000000000\n"
     ]
    }
   ],
   "source": [
    "a = 1.0\n",
    "b = 0.0000000000000000000000001\n",
    "c = a + b\n",
    "print(f'{c:.80f}')\n",
    "\n",
    "# BŁĄD ZAOKRĄGLENIA: utrata precyzji"
   ]
  },
  {
   "cell_type": "markdown",
   "id": "secret-raise",
   "metadata": {},
   "source": [
    "***Problem reprezentacji w zapisie binarnym*** "
   ]
  },
  {
   "cell_type": "code",
   "execution_count": 111,
   "id": "f6596f1a",
   "metadata": {},
   "outputs": [
    {
     "name": "stdout",
     "output_type": "stream",
     "text": [
      "False\n"
     ]
    }
   ],
   "source": [
    "if 0.1+0.2==0.3:\n",
    "    print(\"True\")\n",
    "else:\n",
    "    print(\"False\")\n",
    "\n",
    "# BŁĄD ZAOKRĄGLENIA"
   ]
  },
  {
   "cell_type": "code",
   "execution_count": 112,
   "id": "cross-ranch",
   "metadata": {},
   "outputs": [
    {
     "name": "stdout",
     "output_type": "stream",
     "text": [
      "9.999999999999980\n",
      "\n",
      "0.1 hex: 3fb999999999999a\n",
      "SUMA hex: 4023fffffffffff5\n",
      "10 hex: 4024000000000000\n"
     ]
    }
   ],
   "source": [
    "suma = 0\n",
    "for i in range(0,100):\n",
    "    suma += 0.1\n",
    "print(f'{suma:.15f}\\n')\n",
    "\n",
    "print(\"0.1 hex:\",double_to_hex(0.1))\n",
    "print(\"SUMA hex:\",double_to_hex(suma))\n",
    "print(\"10 hex:\",double_to_hex(10))\n",
    "\n",
    "# BŁĄD ZAOKRĄGLENIA"
   ]
  },
  {
   "cell_type": "markdown",
   "id": "56086598",
   "metadata": {},
   "source": [
    "**Zadanie 4.**"
   ]
  },
  {
   "cell_type": "markdown",
   "id": "35804ff5",
   "metadata": {},
   "source": [
    "Niech:\n",
    "* $a=0.3$\n",
    "* $b=10^{-13}$\n",
    "* $c=a-b$\n",
    "* $d=a-c$\n",
    "\n",
    "Czy $b$ i $d$ są sobie równe w sensie analitycznym? Co z przypadkiem numerycznym? Zdefiniuj odpowiednie zmienne i porównaj wyniki. Porównaj szesnastkowe i dziesietne reprezentacje zmiennych `b` i `d`. Ile cyfr w reprezentacji `d` możemy uznać za wiarygodne?"
   ]
  },
  {
   "cell_type": "code",
   "execution_count": 113,
   "id": "47593036",
   "metadata": {},
   "outputs": [
    {
     "name": "stdout",
     "output_type": "stream",
     "text": [
      "a = 0.3\n",
      "b = 1e-13\n",
      "c = 0.2999999999999\n",
      "d = 9.99755833674953e-14\n"
     ]
    }
   ],
   "source": [
    "a = 0.3\n",
    "b = 1e-13\n",
    "\n",
    "print(f\"{a = }\") # a = 0.3\n",
    "print(f\"{b = :.15}\") # b = 1e-13\n",
    "\n",
    "c = a-b\n",
    "print(f\"{c = :.15}\") # c = 0.2999999999999\n",
    "\n",
    "d = a-c\n",
    "print(f\"{d = :.15}\") # d = 9.99755833674953e-14\n",
    "\n",
    "# ANALITYCZNIE: d = a-c = a-(a-b) = b"
   ]
  },
  {
   "cell_type": "markdown",
   "id": "57bcce2e",
   "metadata": {},
   "source": [
    "**Zadanie 5.**"
   ]
  },
  {
   "cell_type": "markdown",
   "id": "33dd498c",
   "metadata": {},
   "source": [
    "Rozważmy macierz kwadratową:\n",
    "$$ A=\\left[\\begin{array}{ccc}\n",
    "\\sqrt{2} & \\frac{1}{7}\\\\\n",
    "\\pi\\sqrt{2} &\\frac{\\pi}{7}\\\\\n",
    "\\end{array}\\right]\n",
    "$$\n",
    "* Czy jest to macierz osobliwa? Jak to sprawdzić?\n",
    "* Oblicz wyznacznik tej macierzy w sposób analityczny i numeryczny (`np.linalg.det`). Czy otrzymałeś te same wartości? Czy wyniki obliczeń numerycznych prowadzą do poprawnej odpowiedzi na pierwsze pytanie? Jakie może to mieć skutki?"
   ]
  },
  {
   "cell_type": "code",
   "execution_count": 114,
   "id": "7b46d638",
   "metadata": {},
   "outputs": [
    {
     "name": "stdout",
     "output_type": "stream",
     "text": [
      "0.0\n"
     ]
    }
   ],
   "source": [
    "m = np.array([[np.sqrt(2), 1/7],[np.pi*np.sqrt(2), np.pi/7]])\n",
    "print(np.linalg.det(m))\n",
    "\n",
    "# ANALITYCZNIE: \\sqrt{2} \\cdot \\frac{\\pi}{7} - \\pi \\sqrt{2} \\cdot \\frac{1}{7} = 0"
   ]
  },
  {
   "cell_type": "markdown",
   "id": "4db8468c",
   "metadata": {},
   "source": [
    "**Zadanie 6.**"
   ]
  },
  {
   "cell_type": "markdown",
   "id": "e1f226f5",
   "metadata": {},
   "source": [
    "Jedną z metod rozwiązywania równań nieliniowych jest metoda Newtona. Metoda ta powtarza obliczenia, aż spełniony nie będzie warunek stopu. Jeżeli spełnione są odpowiednie założenia to metoda ta zbiega do rozwiązania. Załóżmy, że warunki są spełnione i rozważmy funkcję $f(x)=cos(x)-x$. Poniżej znajdziesz implementację metody Newtona, w której brakuje warunku stopu. Spróbuj go uzupełnić. Warunek powinien być spełniony w momencie, w którym chcemy zakończyć działanie procedury.\n",
    "\n",
    "Z matematycznego punktu widzenia znajdujemy się w zerze, jeżeli kolejne przybliżenia uzyskane z metody Newtona nie różnią się od siebie (np. dwa ostatnie). Zaimplementuj taki warunek i sprawdź, czy program zatrzyma się. Czy taki warunek stopu jest bezpieczny i można go stosować uniwersalnie? Jak można go poprawić?"
   ]
  },
  {
   "cell_type": "code",
   "execution_count": 115,
   "id": "26eb839f",
   "metadata": {},
   "outputs": [],
   "source": [
    "def newton(f, f_prim, x_0):\n",
    "    x_prev = x_0\n",
    "    while True:\n",
    "        x_n=x_prev-(f(x_prev)/f_prim(x_prev))\n",
    "        print(f'x_0={x_n}')\n",
    "        print(double_to_hex(x_n))\n",
    "        \n",
    "        # if abs(f(x_n))<=eps or abs(x_n-x_prev)<=eps: # Warunek stopu z wikipedii\n",
    "        if x_n == x_prev:\n",
    "            return x_n\n",
    "        else:\n",
    "            x_prev=x_n"
   ]
  },
  {
   "cell_type": "code",
   "execution_count": 116,
   "id": "8c8e359e",
   "metadata": {},
   "outputs": [],
   "source": [
    "def f(x):\n",
    "    return np.cos(x)-x\n",
    "\n",
    "def f_prim(x):\n",
    "    return -np.sin(x)-1"
   ]
  },
  {
   "cell_type": "code",
   "execution_count": 117,
   "id": "03aa3df9",
   "metadata": {},
   "outputs": [
    {
     "name": "stdout",
     "output_type": "stream",
     "text": [
      "x_0=1.0\n",
      "3ff0000000000000\n",
      "x_0=0.7503638678402439\n",
      "3fe802fb160f2a4d\n",
      "x_0=0.7391128909113617\n",
      "3fe7a6d013d085a5\n",
      "x_0=0.739085133385284\n",
      "3fe7a695dd9b2fdd\n",
      "x_0=0.7390851332151607\n",
      "3fe7a695dd83ce2e\n",
      "x_0=0.7390851332151607\n",
      "3fe7a695dd83ce2e\n",
      "0.7390851332151607\n"
     ]
    }
   ],
   "source": [
    "print(newton(f, f_prim, 0))"
   ]
  },
  {
   "cell_type": "markdown",
   "id": "republican-insider",
   "metadata": {},
   "source": [
    "**Zadanie domowe**  \n",
    "\n",
    "Dany jest ciąg:  \n",
    "  \n",
    "$G(p)=\\cfrac{1}{p}\\left[10^{p}\\left(1+p\\pi^{*} \\cdot 10^{-p}\\right)-10^{p}\\right],\\ p=1,2,3,\\dots,n $,\n",
    "w którym $\\pi^{*}$ jest przybliżeniem liczby $\\pi$ z dokładnością do 15 miejsc po przecinku.\n",
    "  \n",
    "Stwórz funkcję, która umożliwi obliczenie $n$ pierwszych wyrazów tego ciągu i zwróci je w postaci wektora (do przybliżenia wartości $\\pi$ możesz wykorzystać funkcję *[round](https://numpy.org/doc/stable/reference/generated/numpy.round_.html)*). Oblicz błąd bezwzględny i błąd względny otrzymanych wyników. Przedstaw rezultaty na wykresie w zależności od $n$. Wartości błędów przedstaw w skali logarytmicznej (funkcja *plt.semilogy()*).\n",
    "\n",
    "Przeanalizuj rozwiązanie i odpowiedz na następujące pytania:  \n",
    "* Czy w obliczeniach analitycznych wartość $G(p)$ zależy od $p$?\n",
    "* Jak zmienia się błąd w zależności od $n$? O czym to świadczy?\n",
    "* Z jakim/jakimi rodzajami błędu mamy do czynienie?\n"
   ]
  },
  {
   "cell_type": "code",
   "execution_count": 118,
   "id": "regular-malpractice",
   "metadata": {},
   "outputs": [
    {
     "name": "stdout",
     "output_type": "stream",
     "text": [
      "p:  1\n",
      "x := 1+(PI*(10**-p)): 1.3141592653589793,\t (x*(10**p))-(10**p): 3.141592653589793\n",
      "result:  3.141592653589793\n",
      "---\n",
      "p:  2\n",
      "x := 1+(PI*(10**-p)): 1.031415926535898,\t (x*(10**p))-(10**p): 3.1415926535897967\n",
      "result:  3.1415926535897967\n",
      "---\n",
      "p:  3\n",
      "x := 1+(PI*(10**-p)): 1.0031415926535898,\t (x*(10**p))-(10**p): 3.1415926535897825\n",
      "result:  3.14159265358982\n",
      "---\n",
      "p:  4\n",
      "x := 1+(PI*(10**-p)): 1.000314159265359,\t (x*(10**p))-(10**p): 3.1415926535901235\n",
      "result:  3.1415926535901235\n",
      "---\n",
      "p:  5\n",
      "x := 1+(PI*(10**-p)): 1.000031415926536,\t (x*(10**p))-(10**p): 3.1415926535992185\n",
      "result:  3.1415926535904877\n",
      "---\n",
      "p:  6\n",
      "x := 1+(PI*(10**-p)): 1.0000031415926536,\t (x*(10**p))-(10**p): 3.1415926535846666\n",
      "result:  3.1415926535846666\n",
      "---\n",
      "p:  7\n",
      "x := 1+(PI*(10**-p)): 1.0000003141592653,\t (x*(10**p))-(10**p): 3.1415926534682512\n",
      "result:  3.1415926537343433\n",
      "---\n",
      "p:  8\n",
      "x := 1+(PI*(10**-p)): 1.0000000314159265,\t (x*(10**p))-(10**p): 3.141592651605606\n",
      "result:  3.1415926534682512\n",
      "---\n",
      "p:  9\n",
      "x := 1+(PI*(10**-p)): 1.0000000031415928,\t (x*(10**p))-(10**p): 3.1415927410125732\n",
      "result:  3.1415926615397134\n",
      "---\n",
      "p:  10\n",
      "x := 1+(PI*(10**-p)): 1.0000000003141594,\t (x*(10**p))-(10**p): 3.1415939331054688\n",
      "result:  3.1415927886962893\n",
      "---\n",
      "p:  11\n",
      "x := 1+(PI*(10**-p)): 1.000000000031416,\t (x*(10**p))-(10**p): 3.1416015625\n",
      "result:  3.141591852361506\n",
      "---\n",
      "p:  12\n",
      "x := 1+(PI*(10**-p)): 1.0000000000031415,\t (x*(10**p))-(10**p): 3.1414794921875\n",
      "result:  3.1416015625\n",
      "---\n",
      "p:  13\n",
      "x := 1+(PI*(10**-p)): 1.0000000000003142,\t (x*(10**p))-(10**p): 3.142578125\n",
      "result:  3.1415264423076925\n",
      "---\n",
      "p:  14\n",
      "x := 1+(PI*(10**-p)): 1.0000000000000313,\t (x*(10**p))-(10**p): 3.125\n",
      "result:  3.141741071428571\n",
      "---\n",
      "p:  15\n",
      "x := 1+(PI*(10**-p)): 1.000000000000003,\t (x*(10**p))-(10**p): 3.125\n",
      "result:  3.1416666666666666\n",
      "---\n",
      "p:  16\n",
      "x := 1+(PI*(10**-p)): 1.0000000000000002,\t (x*(10**p))-(10**p): 2.0\n",
      "result:  3.25\n",
      "---\n",
      "p:  17\n",
      "x := 1+(PI*(10**-p)): 1.0,\t (x*(10**p))-(10**p): 0.0\n",
      "result:  2.8235294117647056\n",
      "---\n",
      "p:  18\n",
      "x := 1+(PI*(10**-p)): 1.0,\t (x*(10**p))-(10**p): 0.0\n",
      "result:  0.0\n",
      "---\n",
      "p:  19\n",
      "x := 1+(PI*(10**-p)): 1.0,\t (x*(10**p))-(10**p): 0.0\n",
      "result:  0.0\n",
      "---\n",
      "p:  20\n",
      "x := 1+(PI*(10**-p)): 1.0,\t (x*(10**p))-(10**p): 0.0\n",
      "result:  0.0\n",
      "---\n",
      "values:  [3.14159265 3.14159265 3.14159265 3.14159265 3.14159265 3.14159265\n",
      " 3.14159265 3.14159265 3.14159266 3.14159279 3.14159185 3.14160156\n",
      " 3.14152644 3.14174107 3.14166667 3.25       2.82352941 0.\n",
      " 0.         0.        ]\n"
     ]
    },
    {
     "data": {
      "text/plain": [
       "<matplotlib.lines.Line2D at 0x1e083f51700>"
      ]
     },
     "execution_count": 118,
     "metadata": {},
     "output_type": "execute_result"
    },
    {
     "data": {
      "image/png": "[encoded data removed]",
      "text/plain": [
       "<Figure size 1400x1000 with 1 Axes>"
      ]
     },
     "metadata": {},
     "output_type": "display_data"
    }
   ],
   "source": [
    "PI = np.round(np.pi, 15)\n",
    "def G(p):\n",
    "    result = (1.0/p) * ((10**p) * (1+p*PI*(10**-p)) - (10**p))\n",
    "    print('p: ', p)\n",
    "    print(f\"x := 1+(PI*(10**-p)): {1+(PI*(10**-p))},\\t (x*(10**p))-(10**p): {(1+(PI*(10**-p)))*(10**p) - (10**p)}\")\n",
    "    print('result: ', result)\n",
    "    print(\"---\")\n",
    "    return result\n",
    "\n",
    "def n_first_G_values(n):\n",
    "    result = np.empty(n)\n",
    "    for i in range(1, n+1):\n",
    "        result[i-1] = G(i)\n",
    "    return result\n",
    "\n",
    "N = 20\n",
    "\n",
    "values = n_first_G_values(N)\n",
    "absolute_errors = [abs(PI-val) for val in values]\n",
    "relative_errors = [err/abs(PI) for err in absolute_errors]\n",
    "print('values: ', values)\n",
    "\n",
    "plt.figure(figsize=(14,10))\n",
    "X = np.arange(1, N+1)\n",
    "\n",
    "plt.plot(X,values, label = '$G(x)$') # W argumencie label umieszcza się nazwy krzywych do legendy\n",
    "plt.semilogy(X,absolute_errors, label = '$|g_i-pi|$')\n",
    "plt.semilogy(X,relative_errors, label = '$|g_i-pi|/pi$')\n",
    "plt.xlabel('x')\n",
    "plt.xticks(np.arange(0,N+1, step=1))\n",
    "plt.grid() # Wyświetlanie siatki\n",
    "plt.legend() # Dodanie legendy\n",
    "plt.axhline(y=0, color='k') # Dodanie osi x = 0\n",
    "plt.axvline(x=0, color='k') # Dodanie osi y = 0"
   ]
  },
  {
   "cell_type": "markdown",
   "id": "c0f911ac",
   "metadata": {},
   "source": [
    "**Odpowiedzi:**\n",
    "\n",
    "- Upraszczając analitycznie wzór na elementy ciągu `G(p)`, dochodzimy do wniosku że jego wartości nie zależą od `p`. Wartości ciągu `G_i = PI`.\n",
    "\n",
    "- Błąd wraz ze wzrostem `p` staje się coraz większy aż dla `p>17` wynosi `PI`. Analizując wzór `G(p)`, można zauważyć skąd wynika błąd. Wartość PI jest dzielona przez `10^p`, inaczej mówiąc, jej przecinek jest przesuwany w lewo. To nie powoduje problemu do momentu dodania do `PI` w takiej formie wartości `1`. W wyniku tej operacji wraz ze wzrostem `p`, pozbywamy się kolejnych cyfr znaczących pomniejszonej liczby `PI`. Co dla `p>17` oznacza że wartości `PI` nie ma już w pamięci zmiennej typu double.\n",
    "\n",
    "- Mamy tutaj do czynienie z błędem zaokrąglania, a bardziej dokładnie - utratą precyzji. Wartości `PI` występują od `p`-tego miejsca po przecinku co dla wyższych wartości `p` wykracza poza zakres precyzji typu double."
   ]
  }
 ],
 "metadata": {
  "kernelspec": {
   "display_name": "Python 3 (ipykernel)",
   "language": "python",
   "name": "python3"
  },
  "language_info": {
   "codemirror_mode": {
    "name": "ipython",
    "version": 3
   },
   "file_extension": ".py",
   "mimetype": "text/x-python",
   "name": "python",
   "nbconvert_exporter": "python",
   "pygments_lexer": "ipython3",
   "version": "3.12.5"
  }
 },
 "nbformat": 4,
 "nbformat_minor": 5
}
